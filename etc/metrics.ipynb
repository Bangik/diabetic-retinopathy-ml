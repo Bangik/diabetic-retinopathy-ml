{
 "cells": [
  {
   "cell_type": "code",
   "execution_count": 1,
   "metadata": {},
   "outputs": [],
   "source": [
    "from sklearn.metrics import cohen_kappa_score, accuracy_score, classification_report, confusion_matrix\n",
    "import numpy as np"
   ]
  },
  {
   "cell_type": "code",
   "execution_count": 2,
   "metadata": {},
   "outputs": [
    {
     "name": "stdout",
     "output_type": "stream",
     "text": [
      "Cohen's Kappa:  0.3999999999999999\n",
      "Accuracy:  0.6666666666666666\n"
     ]
    }
   ],
   "source": [
    "true_labels = np.array([1, 0, 1, 1, 0, 1])\n",
    "pred_labels = np.array([1, 0, 0, 0, 0, 1])\n",
    "\n",
    "print(\"Cohen's Kappa: \", cohen_kappa_score(true_labels, pred_labels))\n",
    "print(\"Accuracy: \", accuracy_score(true_labels, pred_labels))\n",
    "# print(classification_report(y_test, grid_predictions))\n",
    "# print(confusion_matrix(y_test, grid_predictions))"
   ]
  }
 ],
 "metadata": {
  "kernelspec": {
   "display_name": "venv",
   "language": "python",
   "name": "python3"
  },
  "language_info": {
   "codemirror_mode": {
    "name": "ipython",
    "version": 3
   },
   "file_extension": ".py",
   "mimetype": "text/x-python",
   "name": "python",
   "nbconvert_exporter": "python",
   "pygments_lexer": "ipython3",
   "version": "3.10.6"
  },
  "orig_nbformat": 4
 },
 "nbformat": 4,
 "nbformat_minor": 2
}
