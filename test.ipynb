{
 "cells": [
  {
   "cell_type": "code",
   "execution_count": 11,
   "metadata": {},
   "outputs": [
    {
     "name": "stdout",
     "output_type": "stream",
     "text": [
      "[[2 2 2 ... 1 1 2]\n",
      " [1 1 1 ... 1 1 2]\n",
      " [0 0 0 ... 1 1 2]\n",
      " ...\n",
      " [0 0 0 ... 0 0 0]\n",
      " [0 0 0 ... 0 0 0]\n",
      " [0 0 0 ... 0 0 1]]\n"
     ]
    }
   ],
   "source": [
    "import cv2\n",
    "import numpy as np\n",
    "\n",
    "img = cv2.imread('E:/Pawang Code/Diabetic Retinopathy/dataset/0/3bf3085ac167.png')\n",
    "img = cv2.resize(img, (512, 512))\n",
    "img = cv2.cvtColor(img, cv2.COLOR_BGR2GRAY)\n",
    "mask = img>7\n",
    "\n",
    "ix = np.ix_(mask.any(1),mask.any(0))\n",
    "tes = img[ix]\n",
    "  \n",
    "print (tes)"
   ]
  }
 ],
 "metadata": {
  "kernelspec": {
   "display_name": "Python 3",
   "language": "python",
   "name": "python3"
  },
  "language_info": {
   "codemirror_mode": {
    "name": "ipython",
    "version": 3
   },
   "file_extension": ".py",
   "mimetype": "text/x-python",
   "name": "python",
   "nbconvert_exporter": "python",
   "pygments_lexer": "ipython3",
   "version": "3.10.8 (tags/v3.10.8:aaaf517, Oct 11 2022, 16:50:30) [MSC v.1933 64 bit (AMD64)]"
  },
  "orig_nbformat": 4,
  "vscode": {
   "interpreter": {
    "hash": "31ea78c2080ec5467546b7de0f2b779ef73aad63540cf01081aeefe65cf59a54"
   }
  }
 },
 "nbformat": 4,
 "nbformat_minor": 2
}
