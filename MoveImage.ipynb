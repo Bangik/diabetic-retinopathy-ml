{
 "cells": [
  {
   "cell_type": "code",
   "execution_count": 14,
   "metadata": {},
   "outputs": [],
   "source": [
    "import pandas as pd\n",
    "import os"
   ]
  },
  {
   "cell_type": "code",
   "execution_count": 20,
   "metadata": {},
   "outputs": [
    {
     "name": "stdout",
     "output_type": "stream",
     "text": [
      "<class 'pandas.core.frame.DataFrame'>\n",
      "RangeIndex: 3662 entries, 0 to 3661\n",
      "Data columns (total 2 columns):\n",
      " #   Column     Non-Null Count  Dtype \n",
      "---  ------     --------------  ----- \n",
      " 0   id_code    3662 non-null   object\n",
      " 1   diagnosis  3662 non-null   int64 \n",
      "dtypes: int64(1), object(1)\n",
      "memory usage: 57.3+ KB\n"
     ]
    }
   ],
   "source": [
    "label = pd.read_csv('D:/Pawang Code/Diabetic Retinopathy/train.csv')\n",
    "label.info()"
   ]
  },
  {
   "cell_type": "code",
   "execution_count": 17,
   "metadata": {},
   "outputs": [],
   "source": [
    "# search and move image to folder\n",
    "for i in range(len(label)):\n",
    "    if label['diagnosis'][i] == 0:\n",
    "        os.rename('D:/Pawang Code/Diabetic Retinopathy/train_images/'+label['id_code'][i]+'.png', 'D:/Pawang Code/Diabetic Retinopathy/dataset/0/'+label['id_code'][i]+'.png')\n",
    "    elif label['diagnosis'][i] == 1:\n",
    "        os.rename('D:/Pawang Code/Diabetic Retinopathy/train_images/'+label['id_code'][i]+'.png', 'D:/Pawang Code/Diabetic Retinopathy/dataset/1/'+label['id_code'][i]+'.png')\n",
    "    elif label['diagnosis'][i] == 2:\n",
    "        os.rename('D:/Pawang Code/Diabetic Retinopathy/train_images/'+label['id_code'][i]+'.png', 'D:/Pawang Code/Diabetic Retinopathy/dataset/2/'+label['id_code'][i]+'.png')\n",
    "    elif label['diagnosis'][i] == 3:\n",
    "        os.rename('D:/Pawang Code/Diabetic Retinopathy/train_images/'+label['id_code'][i]+'.png', 'D:/Pawang Code/Diabetic Retinopathy/dataset/3/'+label['id_code'][i]+'.png')\n",
    "    elif label['diagnosis'][i] == 4:\n",
    "        os.rename('D:/Pawang Code/Diabetic Retinopathy/train_images/'+label['id_code'][i]+'.png', 'D:/Pawang Code/Diabetic Retinopathy/dataset/4/'+label['id_code'][i]+'.png')\n",
    "    else:\n",
    "        print('error')\n",
    "\n"
   ]
  }
 ],
 "metadata": {
  "kernelspec": {
   "display_name": "Python 3.9.7 64-bit",
   "language": "python",
   "name": "python3"
  },
  "language_info": {
   "codemirror_mode": {
    "name": "ipython",
    "version": 3
   },
   "file_extension": ".py",
   "mimetype": "text/x-python",
   "name": "python",
   "nbconvert_exporter": "python",
   "pygments_lexer": "ipython3",
   "version": "3.9.7"
  },
  "orig_nbformat": 4,
  "vscode": {
   "interpreter": {
    "hash": "82ed002fa2d4956f5c6aec99bcefe0f73a9f79882f3c9e2319b14958a5896ac5"
   }
  }
 },
 "nbformat": 4,
 "nbformat_minor": 2
}
