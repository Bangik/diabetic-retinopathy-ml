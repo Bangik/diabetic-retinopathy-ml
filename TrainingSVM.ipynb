{
 "cells": [
  {
   "cell_type": "code",
   "execution_count": 1,
   "metadata": {},
   "outputs": [
    {
     "name": "stdout",
     "output_type": "stream",
     "text": [
      "<class 'pandas.core.frame.DataFrame'>\n",
      "RangeIndex: 500 entries, 0 to 499\n",
      "Data columns (total 8 columns):\n",
      " #   Column           Non-Null Count  Dtype  \n",
      "---  ------           --------------  -----  \n",
      " 0   Image            500 non-null    object \n",
      " 1   contrast_0       500 non-null    float64\n",
      " 2   dissimilarity_0  500 non-null    float64\n",
      " 3   homogeneity_0    500 non-null    float64\n",
      " 4   ASM_0            500 non-null    float64\n",
      " 5   energy_0         500 non-null    float64\n",
      " 6   correlation_0    500 non-null    float64\n",
      " 7   Label            500 non-null    int64  \n",
      "dtypes: float64(6), int64(1), object(1)\n",
      "memory usage: 31.4+ KB\n"
     ]
    }
   ],
   "source": [
    "import pandas as pd\n",
    "from sklearn.model_selection import train_test_split\n",
    "from sklearn.svm import SVC\n",
    "import joblib\n",
    "\n",
    "df = pd.read_excel('D:/Pawang Code/Diabetic Retinopathy/featureExtraction1.xlsx')\n",
    "df.info()"
   ]
  },
  {
   "cell_type": "code",
   "execution_count": 3,
   "metadata": {},
   "outputs": [],
   "source": [
    "x = df.drop(['Label', 'Image'], axis=1)\n",
    "y = df['Label']\n",
    "x_train, x_test, y_train, y_test = train_test_split(x, y, test_size=0.2, random_state=None)"
   ]
  },
  {
   "cell_type": "code",
   "execution_count": 4,
   "metadata": {},
   "outputs": [
    {
     "data": {
      "text/plain": [
       "SVC(kernel='linear')"
      ]
     },
     "execution_count": 4,
     "metadata": {},
     "output_type": "execute_result"
    }
   ],
   "source": [
    "clf = SVC(kernel='linear')\n",
    "clf.fit(x_train, y_train)"
   ]
  },
  {
   "cell_type": "code",
   "execution_count": 5,
   "metadata": {},
   "outputs": [
    {
     "data": {
      "text/plain": [
       "0.3"
      ]
     },
     "execution_count": 5,
     "metadata": {},
     "output_type": "execute_result"
    }
   ],
   "source": [
    "clf.score(x_test, y_test)"
   ]
  },
  {
   "cell_type": "code",
   "execution_count": 15,
   "metadata": {},
   "outputs": [
    {
     "data": {
      "text/plain": [
       "['C:/Users/user/Documents/Python/model_training.pkl']"
      ]
     },
     "execution_count": 15,
     "metadata": {},
     "output_type": "execute_result"
    }
   ],
   "source": [
    "joblib.dump(clf, 'C:/Users/user/Documents/Python/model_training.pkl')"
   ]
  },
  {
   "cell_type": "code",
   "execution_count": 28,
   "metadata": {},
   "outputs": [
    {
     "name": "stdout",
     "output_type": "stream",
     "text": [
      "c:/Users/user/Documents/Python/DiabeticRetinopathy\n"
     ]
    }
   ],
   "source": [
    "import os\n",
    "\n",
    "root_path = os.getcwd()\n",
    "root_path = root_path.replace(\"\\\\\", \"/\")\n",
    "print(root_path)"
   ]
  },
  {
   "cell_type": "code",
   "execution_count": 6,
   "metadata": {},
   "outputs": [
    {
     "name": "stdout",
     "output_type": "stream",
     "text": [
      "[0 4 0 2 0 0 0 0 0 0 0 0 2 0 0 0 2 0 0 0 0 0 0 0 3 0 0 2 0 0 0 0 0 0 0 2 0\n",
      " 0 4 0 0 0 0 2 0 0 0 0 0 2 0 0 0 0 2 0 2 0 4 4 0 4 0 0 4 2 0 3 0 0 0 0 3 0\n",
      " 2 3 0 2 0 0 0 3 0 0 2 0 4 0 0 4 0 2 0 0 0 0 0 0 2 0 4 0 2 0 3 0 2 2 0 0 4\n",
      " 0 0 0 0 4 2 2 0 0 2 0 0 3 2 0 2 2 2 2 0 4 4 2 2 2 4 2 2 4 0 2 2 0 0 4 3 2\n",
      " 0 0 0 0 2 4 0 2 4 2 2 2 3 0 2 4 0 4 2 2 2 2 2 0 4 2 2 3 3 2 0 4 2 4 2 0 0\n",
      " 2 0 4 0 2 2 0 2 4 0 3 3 2 4 0 4 2 0 2 4 0 4 4 2 4 4 2 0 2 2 3 0 0 4 4 0 2\n",
      " 2 4 4 4 4 0 3 3 4 0 4 4 3 2 0 4 0 0 2 2 2 4 0 0 2 3 3 2]\n",
      "[0 4 4 0 4 3 4 4 0 4 0 4 4 0 4 4 0 3 2 2 4 2 2 0 2 0 0 2 0 2 0 2 3 4 2 2 0\n",
      " 4 4 4 4 2 4 0 2 2 2 0 0 2 4 4 4 2 2 4 0 2 4 4 4 4 2 4 2 2 4 2 4 4 4 2 0 2\n",
      " 2 2 4 3 4 0 4 0 4 2 4 4 2 2 3 2 2 4 3 2 2 4 2 4 4 3 4 2 2 3 2 4 2 0 2 4 2\n",
      " 0 4 2 4 4 4 2 4 4 2 2 4 0 2 2 3 2 2 4 2 4 0 4 4 4 3 4 4 0 0 0 4 2 0 3 4 2\n",
      " 4 4 3 4 2 4 3 0 4 2 4 4 2 4 4 2 2 4 4 4 4 0 3 4 4 4 2 4 4 4 4 4 4 2 4 2 4\n",
      " 4 2 4 0 4 4 2 4 4 4 2 4 4 4 4 2 4 4 4 2 2 2 4 4 3 4 2 4 4 4 0 4 4 4 0 3 0\n",
      " 2 2 4 4 4 3 4 2 4 4 4 0 0 4 0 2 4 4 0 4 0 2 4 4 3 2 3 4]\n"
     ]
    }
   ],
   "source": [
    "tesModel = df.drop(['Label', 'Image'], axis=1)\n",
    "hasil = clf.predict(tesModel)\n",
    "# print(hasil)\n",
    "\n",
    "midIndex = int(len(hasil)/2)\n",
    "# print(hasil)\n",
    "\n",
    "print(hasil[:midIndex])\n",
    "print(hasil[midIndex:])"
   ]
  }
 ],
 "metadata": {
  "kernelspec": {
   "display_name": "Python 3.9.7 64-bit",
   "language": "python",
   "name": "python3"
  },
  "language_info": {
   "codemirror_mode": {
    "name": "ipython",
    "version": 3
   },
   "file_extension": ".py",
   "mimetype": "text/x-python",
   "name": "python",
   "nbconvert_exporter": "python",
   "pygments_lexer": "ipython3",
   "version": "3.9.7"
  },
  "orig_nbformat": 4,
  "vscode": {
   "interpreter": {
    "hash": "82ed002fa2d4956f5c6aec99bcefe0f73a9f79882f3c9e2319b14958a5896ac5"
   }
  }
 },
 "nbformat": 4,
 "nbformat_minor": 2
}
