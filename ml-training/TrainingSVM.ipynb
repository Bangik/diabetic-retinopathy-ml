{
 "cells": [
  {
   "cell_type": "code",
   "execution_count": 4,
   "metadata": {},
   "outputs": [
    {
     "name": "stdout",
     "output_type": "stream",
     "text": [
      "<class 'pandas.core.frame.DataFrame'>\n",
      "RangeIndex: 3661 entries, 0 to 3660\n",
      "Data columns (total 8 columns):\n",
      " #   Column           Non-Null Count  Dtype  \n",
      "---  ------           --------------  -----  \n",
      " 0   Image            3661 non-null   object \n",
      " 1   contrast_0       3661 non-null   float64\n",
      " 2   dissimilarity_0  3661 non-null   float64\n",
      " 3   homogeneity_0    3661 non-null   float64\n",
      " 4   ASM_0            3661 non-null   float64\n",
      " 5   energy_0         3661 non-null   float64\n",
      " 6   correlation_0    3661 non-null   float64\n",
      " 7   Label            3661 non-null   int64  \n",
      "dtypes: float64(6), int64(1), object(1)\n",
      "memory usage: 228.9+ KB\n"
     ]
    }
   ],
   "source": [
    "import pandas as pd\n",
    "from sklearn.model_selection import train_test_split\n",
    "from sklearn.svm import SVC\n",
    "from sklearn.metrics import classification_report, confusion_matrix\n",
    "# import joblib\n",
    "\n",
    "df = pd.read_excel('E:/Pawang Code/Diabetic Retinopathy/featureExtractionbv.xlsx')\n",
    "df.info()"
   ]
  },
  {
   "cell_type": "code",
   "execution_count": 2,
   "metadata": {},
   "outputs": [],
   "source": [
    "x = df.drop(['Label', 'Image'], axis=1)\n",
    "y = df['Label']\n",
    "x_train, x_test, y_train, y_test = train_test_split(x, y, test_size=0.3, random_state=None)"
   ]
  },
  {
   "cell_type": "code",
   "execution_count": 3,
   "metadata": {},
   "outputs": [],
   "source": [
    "from sklearn.preprocessing import StandardScaler\n",
    "scaler = StandardScaler()\n",
    "scaler.fit(x_train)\n",
    "X_train = scaler.transform(x_train)  \n",
    "X_test = scaler.transform(x_test)"
   ]
  },
  {
   "cell_type": "code",
   "execution_count": 6,
   "metadata": {},
   "outputs": [
    {
     "name": "stdout",
     "output_type": "stream",
     "text": [
      "Fitting 5 folds for each of 25 candidates, totalling 125 fits\n",
      "[CV 1/5] END ........C=0.1, gamma=1, kernel=rbf;, score=0.657 total time=   0.7s\n",
      "[CV 2/5] END ........C=0.1, gamma=1, kernel=rbf;, score=0.651 total time=   0.5s\n",
      "[CV 3/5] END ........C=0.1, gamma=1, kernel=rbf;, score=0.674 total time=   0.4s\n",
      "[CV 4/5] END ........C=0.1, gamma=1, kernel=rbf;, score=0.658 total time=   0.4s\n",
      "[CV 5/5] END ........C=0.1, gamma=1, kernel=rbf;, score=0.670 total time=   0.4s\n",
      "[CV 1/5] END ......C=0.1, gamma=0.1, kernel=rbf;, score=0.653 total time=   0.3s\n",
      "[CV 2/5] END ......C=0.1, gamma=0.1, kernel=rbf;, score=0.643 total time=   0.4s\n",
      "[CV 3/5] END ......C=0.1, gamma=0.1, kernel=rbf;, score=0.668 total time=   0.4s\n",
      "[CV 4/5] END ......C=0.1, gamma=0.1, kernel=rbf;, score=0.652 total time=   0.3s\n",
      "[CV 5/5] END ......C=0.1, gamma=0.1, kernel=rbf;, score=0.668 total time=   0.5s\n",
      "[CV 1/5] END .....C=0.1, gamma=0.01, kernel=rbf;, score=0.651 total time=   0.3s\n",
      "[CV 2/5] END .....C=0.1, gamma=0.01, kernel=rbf;, score=0.641 total time=   0.6s\n",
      "[CV 3/5] END .....C=0.1, gamma=0.01, kernel=rbf;, score=0.664 total time=   0.4s\n",
      "[CV 4/5] END .....C=0.1, gamma=0.01, kernel=rbf;, score=0.650 total time=   0.4s\n",
      "[CV 5/5] END .....C=0.1, gamma=0.01, kernel=rbf;, score=0.660 total time=   0.4s\n",
      "[CV 1/5] END ....C=0.1, gamma=0.001, kernel=rbf;, score=0.546 total time=   0.4s\n",
      "[CV 2/5] END ....C=0.1, gamma=0.001, kernel=rbf;, score=0.536 total time=   0.4s\n",
      "[CV 3/5] END ....C=0.1, gamma=0.001, kernel=rbf;, score=0.535 total time=   0.4s\n",
      "[CV 4/5] END ....C=0.1, gamma=0.001, kernel=rbf;, score=0.535 total time=   0.4s\n",
      "[CV 5/5] END ....C=0.1, gamma=0.001, kernel=rbf;, score=0.529 total time=   0.4s\n",
      "[CV 1/5] END ...C=0.1, gamma=0.0001, kernel=rbf;, score=0.501 total time=   0.4s\n",
      "[CV 2/5] END ...C=0.1, gamma=0.0001, kernel=rbf;, score=0.501 total time=   0.4s\n",
      "[CV 3/5] END ...C=0.1, gamma=0.0001, kernel=rbf;, score=0.500 total time=   0.4s\n",
      "[CV 4/5] END ...C=0.1, gamma=0.0001, kernel=rbf;, score=0.500 total time=   0.4s\n",
      "[CV 5/5] END ...C=0.1, gamma=0.0001, kernel=rbf;, score=0.500 total time=   0.4s\n",
      "[CV 1/5] END ..........C=1, gamma=1, kernel=rbf;, score=0.694 total time=   0.4s\n",
      "[CV 2/5] END ..........C=1, gamma=1, kernel=rbf;, score=0.673 total time=   0.4s\n",
      "[CV 3/5] END ..........C=1, gamma=1, kernel=rbf;, score=0.693 total time=   0.5s\n",
      "[CV 4/5] END ..........C=1, gamma=1, kernel=rbf;, score=0.686 total time=   0.4s\n",
      "[CV 5/5] END ..........C=1, gamma=1, kernel=rbf;, score=0.695 total time=   0.3s\n",
      "[CV 1/5] END ........C=1, gamma=0.1, kernel=rbf;, score=0.657 total time=   0.3s\n",
      "[CV 2/5] END ........C=1, gamma=0.1, kernel=rbf;, score=0.655 total time=   0.3s\n",
      "[CV 3/5] END ........C=1, gamma=0.1, kernel=rbf;, score=0.674 total time=   0.3s\n",
      "[CV 4/5] END ........C=1, gamma=0.1, kernel=rbf;, score=0.656 total time=   0.3s\n",
      "[CV 5/5] END ........C=1, gamma=0.1, kernel=rbf;, score=0.676 total time=   0.3s\n",
      "[CV 1/5] END .......C=1, gamma=0.01, kernel=rbf;, score=0.651 total time=   0.3s\n",
      "[CV 2/5] END .......C=1, gamma=0.01, kernel=rbf;, score=0.643 total time=   0.3s\n",
      "[CV 3/5] END .......C=1, gamma=0.01, kernel=rbf;, score=0.664 total time=   0.3s\n",
      "[CV 4/5] END .......C=1, gamma=0.01, kernel=rbf;, score=0.648 total time=   0.3s\n",
      "[CV 5/5] END .......C=1, gamma=0.01, kernel=rbf;, score=0.666 total time=   0.3s\n",
      "[CV 1/5] END ......C=1, gamma=0.001, kernel=rbf;, score=0.651 total time=   0.3s\n",
      "[CV 2/5] END ......C=1, gamma=0.001, kernel=rbf;, score=0.643 total time=   0.3s\n",
      "[CV 3/5] END ......C=1, gamma=0.001, kernel=rbf;, score=0.664 total time=   0.3s\n",
      "[CV 4/5] END ......C=1, gamma=0.001, kernel=rbf;, score=0.650 total time=   0.3s\n",
      "[CV 5/5] END ......C=1, gamma=0.001, kernel=rbf;, score=0.664 total time=   0.3s\n",
      "[CV 1/5] END .....C=1, gamma=0.0001, kernel=rbf;, score=0.546 total time=   0.3s\n",
      "[CV 2/5] END .....C=1, gamma=0.0001, kernel=rbf;, score=0.538 total time=   0.3s\n",
      "[CV 3/5] END .....C=1, gamma=0.0001, kernel=rbf;, score=0.539 total time=   0.3s\n",
      "[CV 4/5] END .....C=1, gamma=0.0001, kernel=rbf;, score=0.537 total time=   0.3s\n",
      "[CV 5/5] END .....C=1, gamma=0.0001, kernel=rbf;, score=0.527 total time=   0.3s\n",
      "[CV 1/5] END .........C=10, gamma=1, kernel=rbf;, score=0.702 total time=   0.4s\n",
      "[CV 2/5] END .........C=10, gamma=1, kernel=rbf;, score=0.680 total time=   0.4s\n",
      "[CV 3/5] END .........C=10, gamma=1, kernel=rbf;, score=0.713 total time=   0.4s\n",
      "[CV 4/5] END .........C=10, gamma=1, kernel=rbf;, score=0.695 total time=   0.4s\n",
      "[CV 5/5] END .........C=10, gamma=1, kernel=rbf;, score=0.711 total time=   0.4s\n",
      "[CV 1/5] END .......C=10, gamma=0.1, kernel=rbf;, score=0.671 total time=   0.3s\n",
      "[CV 2/5] END .......C=10, gamma=0.1, kernel=rbf;, score=0.665 total time=   0.3s\n",
      "[CV 3/5] END .......C=10, gamma=0.1, kernel=rbf;, score=0.680 total time=   0.3s\n",
      "[CV 4/5] END .......C=10, gamma=0.1, kernel=rbf;, score=0.662 total time=   0.3s\n",
      "[CV 5/5] END .......C=10, gamma=0.1, kernel=rbf;, score=0.689 total time=   0.4s\n",
      "[CV 1/5] END ......C=10, gamma=0.01, kernel=rbf;, score=0.651 total time=   0.3s\n",
      "[CV 2/5] END ......C=10, gamma=0.01, kernel=rbf;, score=0.649 total time=   0.3s\n",
      "[CV 3/5] END ......C=10, gamma=0.01, kernel=rbf;, score=0.672 total time=   0.3s\n",
      "[CV 4/5] END ......C=10, gamma=0.01, kernel=rbf;, score=0.654 total time=   0.3s\n",
      "[CV 5/5] END ......C=10, gamma=0.01, kernel=rbf;, score=0.672 total time=   0.3s\n",
      "[CV 1/5] END .....C=10, gamma=0.001, kernel=rbf;, score=0.651 total time=   0.3s\n",
      "[CV 2/5] END .....C=10, gamma=0.001, kernel=rbf;, score=0.645 total time=   0.3s\n",
      "[CV 3/5] END .....C=10, gamma=0.001, kernel=rbf;, score=0.662 total time=   0.3s\n",
      "[CV 4/5] END .....C=10, gamma=0.001, kernel=rbf;, score=0.650 total time=   0.4s\n",
      "[CV 5/5] END .....C=10, gamma=0.001, kernel=rbf;, score=0.662 total time=   0.3s\n",
      "[CV 1/5] END ....C=10, gamma=0.0001, kernel=rbf;, score=0.651 total time=   0.3s\n",
      "[CV 2/5] END ....C=10, gamma=0.0001, kernel=rbf;, score=0.641 total time=   0.3s\n",
      "[CV 3/5] END ....C=10, gamma=0.0001, kernel=rbf;, score=0.664 total time=   0.3s\n",
      "[CV 4/5] END ....C=10, gamma=0.0001, kernel=rbf;, score=0.650 total time=   0.3s\n",
      "[CV 5/5] END ....C=10, gamma=0.0001, kernel=rbf;, score=0.664 total time=   0.3s\n",
      "[CV 1/5] END ........C=100, gamma=1, kernel=rbf;, score=0.694 total time=   0.7s\n",
      "[CV 2/5] END ........C=100, gamma=1, kernel=rbf;, score=0.678 total time=   0.8s\n",
      "[CV 3/5] END ........C=100, gamma=1, kernel=rbf;, score=0.676 total time=   0.8s\n",
      "[CV 4/5] END ........C=100, gamma=1, kernel=rbf;, score=0.686 total time=   0.8s\n",
      "[CV 5/5] END ........C=100, gamma=1, kernel=rbf;, score=0.705 total time=   0.7s\n",
      "[CV 1/5] END ......C=100, gamma=0.1, kernel=rbf;, score=0.676 total time=   0.6s\n",
      "[CV 2/5] END ......C=100, gamma=0.1, kernel=rbf;, score=0.667 total time=   0.6s\n",
      "[CV 3/5] END ......C=100, gamma=0.1, kernel=rbf;, score=0.688 total time=   0.6s\n",
      "[CV 4/5] END ......C=100, gamma=0.1, kernel=rbf;, score=0.678 total time=   0.7s\n",
      "[CV 5/5] END ......C=100, gamma=0.1, kernel=rbf;, score=0.703 total time=   0.7s\n",
      "[CV 1/5] END .....C=100, gamma=0.01, kernel=rbf;, score=0.659 total time=   0.7s\n",
      "[CV 2/5] END .....C=100, gamma=0.01, kernel=rbf;, score=0.659 total time=   0.6s\n",
      "[CV 3/5] END .....C=100, gamma=0.01, kernel=rbf;, score=0.672 total time=   0.6s\n",
      "[CV 4/5] END .....C=100, gamma=0.01, kernel=rbf;, score=0.652 total time=   0.7s\n",
      "[CV 5/5] END .....C=100, gamma=0.01, kernel=rbf;, score=0.668 total time=   0.6s\n",
      "[CV 1/5] END ....C=100, gamma=0.001, kernel=rbf;, score=0.651 total time=   0.4s\n",
      "[CV 2/5] END ....C=100, gamma=0.001, kernel=rbf;, score=0.645 total time=   0.3s\n",
      "[CV 3/5] END ....C=100, gamma=0.001, kernel=rbf;, score=0.668 total time=   0.4s\n",
      "[CV 4/5] END ....C=100, gamma=0.001, kernel=rbf;, score=0.652 total time=   0.4s\n",
      "[CV 5/5] END ....C=100, gamma=0.001, kernel=rbf;, score=0.668 total time=   0.3s\n",
      "[CV 1/5] END ...C=100, gamma=0.0001, kernel=rbf;, score=0.651 total time=   0.3s\n",
      "[CV 2/5] END ...C=100, gamma=0.0001, kernel=rbf;, score=0.645 total time=   0.3s\n",
      "[CV 3/5] END ...C=100, gamma=0.0001, kernel=rbf;, score=0.662 total time=   0.3s\n",
      "[CV 4/5] END ...C=100, gamma=0.0001, kernel=rbf;, score=0.648 total time=   0.3s\n",
      "[CV 5/5] END ...C=100, gamma=0.0001, kernel=rbf;, score=0.664 total time=   0.3s\n",
      "[CV 1/5] END .......C=1000, gamma=1, kernel=rbf;, score=0.669 total time=   2.5s\n",
      "[CV 2/5] END .......C=1000, gamma=1, kernel=rbf;, score=0.655 total time=   2.3s\n",
      "[CV 3/5] END .......C=1000, gamma=1, kernel=rbf;, score=0.684 total time=   2.7s\n",
      "[CV 4/5] END .......C=1000, gamma=1, kernel=rbf;, score=0.662 total time=   2.5s\n",
      "[CV 5/5] END .......C=1000, gamma=1, kernel=rbf;, score=0.664 total time=   2.7s\n",
      "[CV 1/5] END .....C=1000, gamma=0.1, kernel=rbf;, score=0.698 total time=   2.4s\n",
      "[CV 2/5] END .....C=1000, gamma=0.1, kernel=rbf;, score=0.680 total time=   2.6s\n",
      "[CV 3/5] END .....C=1000, gamma=0.1, kernel=rbf;, score=0.711 total time=   2.4s\n",
      "[CV 4/5] END .....C=1000, gamma=0.1, kernel=rbf;, score=0.678 total time=   3.1s\n",
      "[CV 5/5] END .....C=1000, gamma=0.1, kernel=rbf;, score=0.705 total time=   2.5s\n",
      "[CV 1/5] END ....C=1000, gamma=0.01, kernel=rbf;, score=0.676 total time=   2.0s\n",
      "[CV 2/5] END ....C=1000, gamma=0.01, kernel=rbf;, score=0.667 total time=   1.4s\n",
      "[CV 3/5] END ....C=1000, gamma=0.01, kernel=rbf;, score=0.676 total time=   1.9s\n",
      "[CV 4/5] END ....C=1000, gamma=0.01, kernel=rbf;, score=0.660 total time=   2.3s\n",
      "[CV 5/5] END ....C=1000, gamma=0.01, kernel=rbf;, score=0.684 total time=   2.6s\n",
      "[CV 1/5] END ...C=1000, gamma=0.001, kernel=rbf;, score=0.653 total time=   1.2s\n",
      "[CV 2/5] END ...C=1000, gamma=0.001, kernel=rbf;, score=0.649 total time=   1.0s\n",
      "[CV 3/5] END ...C=1000, gamma=0.001, kernel=rbf;, score=0.668 total time=   1.0s\n",
      "[CV 4/5] END ...C=1000, gamma=0.001, kernel=rbf;, score=0.656 total time=   1.2s\n",
      "[CV 5/5] END ...C=1000, gamma=0.001, kernel=rbf;, score=0.670 total time=   1.2s\n",
      "[CV 1/5] END ..C=1000, gamma=0.0001, kernel=rbf;, score=0.649 total time=   0.4s\n",
      "[CV 2/5] END ..C=1000, gamma=0.0001, kernel=rbf;, score=0.643 total time=   0.4s\n",
      "[CV 3/5] END ..C=1000, gamma=0.0001, kernel=rbf;, score=0.670 total time=   0.5s\n",
      "[CV 4/5] END ..C=1000, gamma=0.0001, kernel=rbf;, score=0.654 total time=   0.5s\n",
      "[CV 5/5] END ..C=1000, gamma=0.0001, kernel=rbf;, score=0.664 total time=   0.4s\n"
     ]
    },
    {
     "data": {
      "text/html": [
       "<style>#sk-container-id-1 {color: black;background-color: white;}#sk-container-id-1 pre{padding: 0;}#sk-container-id-1 div.sk-toggleable {background-color: white;}#sk-container-id-1 label.sk-toggleable__label {cursor: pointer;display: block;width: 100%;margin-bottom: 0;padding: 0.3em;box-sizing: border-box;text-align: center;}#sk-container-id-1 label.sk-toggleable__label-arrow:before {content: \"▸\";float: left;margin-right: 0.25em;color: #696969;}#sk-container-id-1 label.sk-toggleable__label-arrow:hover:before {color: black;}#sk-container-id-1 div.sk-estimator:hover label.sk-toggleable__label-arrow:before {color: black;}#sk-container-id-1 div.sk-toggleable__content {max-height: 0;max-width: 0;overflow: hidden;text-align: left;background-color: #f0f8ff;}#sk-container-id-1 div.sk-toggleable__content pre {margin: 0.2em;color: black;border-radius: 0.25em;background-color: #f0f8ff;}#sk-container-id-1 input.sk-toggleable__control:checked~div.sk-toggleable__content {max-height: 200px;max-width: 100%;overflow: auto;}#sk-container-id-1 input.sk-toggleable__control:checked~label.sk-toggleable__label-arrow:before {content: \"▾\";}#sk-container-id-1 div.sk-estimator input.sk-toggleable__control:checked~label.sk-toggleable__label {background-color: #d4ebff;}#sk-container-id-1 div.sk-label input.sk-toggleable__control:checked~label.sk-toggleable__label {background-color: #d4ebff;}#sk-container-id-1 input.sk-hidden--visually {border: 0;clip: rect(1px 1px 1px 1px);clip: rect(1px, 1px, 1px, 1px);height: 1px;margin: -1px;overflow: hidden;padding: 0;position: absolute;width: 1px;}#sk-container-id-1 div.sk-estimator {font-family: monospace;background-color: #f0f8ff;border: 1px dotted black;border-radius: 0.25em;box-sizing: border-box;margin-bottom: 0.5em;}#sk-container-id-1 div.sk-estimator:hover {background-color: #d4ebff;}#sk-container-id-1 div.sk-parallel-item::after {content: \"\";width: 100%;border-bottom: 1px solid gray;flex-grow: 1;}#sk-container-id-1 div.sk-label:hover label.sk-toggleable__label {background-color: #d4ebff;}#sk-container-id-1 div.sk-serial::before {content: \"\";position: absolute;border-left: 1px solid gray;box-sizing: border-box;top: 0;bottom: 0;left: 50%;z-index: 0;}#sk-container-id-1 div.sk-serial {display: flex;flex-direction: column;align-items: center;background-color: white;padding-right: 0.2em;padding-left: 0.2em;position: relative;}#sk-container-id-1 div.sk-item {position: relative;z-index: 1;}#sk-container-id-1 div.sk-parallel {display: flex;align-items: stretch;justify-content: center;background-color: white;position: relative;}#sk-container-id-1 div.sk-item::before, #sk-container-id-1 div.sk-parallel-item::before {content: \"\";position: absolute;border-left: 1px solid gray;box-sizing: border-box;top: 0;bottom: 0;left: 50%;z-index: -1;}#sk-container-id-1 div.sk-parallel-item {display: flex;flex-direction: column;z-index: 1;position: relative;background-color: white;}#sk-container-id-1 div.sk-parallel-item:first-child::after {align-self: flex-end;width: 50%;}#sk-container-id-1 div.sk-parallel-item:last-child::after {align-self: flex-start;width: 50%;}#sk-container-id-1 div.sk-parallel-item:only-child::after {width: 0;}#sk-container-id-1 div.sk-dashed-wrapped {border: 1px dashed gray;margin: 0 0.4em 0.5em 0.4em;box-sizing: border-box;padding-bottom: 0.4em;background-color: white;}#sk-container-id-1 div.sk-label label {font-family: monospace;font-weight: bold;display: inline-block;line-height: 1.2em;}#sk-container-id-1 div.sk-label-container {text-align: center;}#sk-container-id-1 div.sk-container {/* jupyter's `normalize.less` sets `[hidden] { display: none; }` but bootstrap.min.css set `[hidden] { display: none !important; }` so we also need the `!important` here to be able to override the default hidden behavior on the sphinx rendered scikit-learn.org. See: https://github.com/scikit-learn/scikit-learn/issues/21755 */display: inline-block !important;position: relative;}#sk-container-id-1 div.sk-text-repr-fallback {display: none;}</style><div id=\"sk-container-id-1\" class=\"sk-top-container\"><div class=\"sk-text-repr-fallback\"><pre>GridSearchCV(estimator=SVC(),\n",
       "             param_grid={&#x27;C&#x27;: [0.1, 1, 10, 100, 1000],\n",
       "                         &#x27;gamma&#x27;: [1, 0.1, 0.01, 0.001, 0.0001],\n",
       "                         &#x27;kernel&#x27;: [&#x27;rbf&#x27;]},\n",
       "             verbose=3)</pre><b>In a Jupyter environment, please rerun this cell to show the HTML representation or trust the notebook. <br />On GitHub, the HTML representation is unable to render, please try loading this page with nbviewer.org.</b></div><div class=\"sk-container\" hidden><div class=\"sk-item sk-dashed-wrapped\"><div class=\"sk-label-container\"><div class=\"sk-label sk-toggleable\"><input class=\"sk-toggleable__control sk-hidden--visually\" id=\"sk-estimator-id-1\" type=\"checkbox\" ><label for=\"sk-estimator-id-1\" class=\"sk-toggleable__label sk-toggleable__label-arrow\">GridSearchCV</label><div class=\"sk-toggleable__content\"><pre>GridSearchCV(estimator=SVC(),\n",
       "             param_grid={&#x27;C&#x27;: [0.1, 1, 10, 100, 1000],\n",
       "                         &#x27;gamma&#x27;: [1, 0.1, 0.01, 0.001, 0.0001],\n",
       "                         &#x27;kernel&#x27;: [&#x27;rbf&#x27;]},\n",
       "             verbose=3)</pre></div></div></div><div class=\"sk-parallel\"><div class=\"sk-parallel-item\"><div class=\"sk-item\"><div class=\"sk-label-container\"><div class=\"sk-label sk-toggleable\"><input class=\"sk-toggleable__control sk-hidden--visually\" id=\"sk-estimator-id-2\" type=\"checkbox\" ><label for=\"sk-estimator-id-2\" class=\"sk-toggleable__label sk-toggleable__label-arrow\">estimator: SVC</label><div class=\"sk-toggleable__content\"><pre>SVC()</pre></div></div></div><div class=\"sk-serial\"><div class=\"sk-item\"><div class=\"sk-estimator sk-toggleable\"><input class=\"sk-toggleable__control sk-hidden--visually\" id=\"sk-estimator-id-3\" type=\"checkbox\" ><label for=\"sk-estimator-id-3\" class=\"sk-toggleable__label sk-toggleable__label-arrow\">SVC</label><div class=\"sk-toggleable__content\"><pre>SVC()</pre></div></div></div></div></div></div></div></div></div></div>"
      ],
      "text/plain": [
       "GridSearchCV(estimator=SVC(),\n",
       "             param_grid={'C': [0.1, 1, 10, 100, 1000],\n",
       "                         'gamma': [1, 0.1, 0.01, 0.001, 0.0001],\n",
       "                         'kernel': ['rbf']},\n",
       "             verbose=3)"
      ]
     },
     "execution_count": 6,
     "metadata": {},
     "output_type": "execute_result"
    }
   ],
   "source": [
    "# find best parameter with svc\n",
    "from sklearn.model_selection import GridSearchCV\n",
    "param_grid = {'C': [0.1, 1, 10, 100, 1000],\n",
    "              'gamma': [1, 0.1, 0.01, 0.001, 0.0001],\n",
    "              'kernel': ['rbf'],\n",
    "              }\n",
    "grid = GridSearchCV(SVC(), param_grid, refit=True, verbose=3)\n",
    "grid.fit(X_train, y_train)"
   ]
  },
  {
   "cell_type": "code",
   "execution_count": 1,
   "metadata": {},
   "outputs": [
    {
     "ename": "NameError",
     "evalue": "name 'grid' is not defined",
     "output_type": "error",
     "traceback": [
      "\u001b[1;31m---------------------------------------------------------------------------\u001b[0m",
      "\u001b[1;31mNameError\u001b[0m                                 Traceback (most recent call last)",
      "Cell \u001b[1;32mIn[1], line 1\u001b[0m\n\u001b[1;32m----> 1\u001b[0m \u001b[39mprint\u001b[39m(grid\u001b[39m.\u001b[39mbest_params_)\n\u001b[0;32m      2\u001b[0m \u001b[39mprint\u001b[39m(grid\u001b[39m.\u001b[39mbest_estimator_)\n\u001b[0;32m      3\u001b[0m grid_predictions \u001b[39m=\u001b[39m grid\u001b[39m.\u001b[39mpredict(X_test)\n",
      "\u001b[1;31mNameError\u001b[0m: name 'grid' is not defined"
     ]
    }
   ],
   "source": [
    "print(grid.best_params_)\n",
    "print(grid.best_estimator_)\n",
    "grid_predictions = grid.predict(X_test)\n",
    "print(classification_report(y_test, grid_predictions))\n",
    "print(confusion_matrix(y_test, grid_predictions))"
   ]
  },
  {
   "cell_type": "code",
   "execution_count": 36,
   "metadata": {},
   "outputs": [
    {
     "name": "stdout",
     "output_type": "stream",
     "text": [
      "score :  0.30357142857142855\n"
     ]
    }
   ],
   "source": [
    "print(\"score : \", clf.score(x_test, y_test))\n",
    "# print(\"intercept : \", clf.intercept_)\n",
    "# print(\"weight : \", clf.coef_)\n",
    "# print(\"support vector : \", clf.support_)"
   ]
  },
  {
   "cell_type": "code",
   "execution_count": 15,
   "metadata": {},
   "outputs": [
    {
     "data": {
      "text/plain": [
       "['C:/Users/user/Documents/Python/model_training.pkl']"
      ]
     },
     "execution_count": 15,
     "metadata": {},
     "output_type": "execute_result"
    }
   ],
   "source": [
    "joblib.dump(clf, 'C:/Users/user/Documents/Python/model_training.pkl')"
   ]
  },
  {
   "cell_type": "code",
   "execution_count": 28,
   "metadata": {},
   "outputs": [
    {
     "name": "stdout",
     "output_type": "stream",
     "text": [
      "c:/Users/user/Documents/Python/DiabeticRetinopathy\n"
     ]
    }
   ],
   "source": [
    "import os\n",
    "\n",
    "root_path = os.getcwd()\n",
    "root_path = root_path.replace(\"\\\\\", \"/\")\n",
    "print(root_path)"
   ]
  },
  {
   "cell_type": "code",
   "execution_count": 15,
   "metadata": {},
   "outputs": [
    {
     "name": "stdout",
     "output_type": "stream",
     "text": [
      "[0 0 0 2 0 0 3 0 0 0 0 0 0 0 0 0 0 0 0 0 0 0 0 0 0 0 0 0 0 0 0 0 0 0 0 0 0\n",
      " 0 0 0 0 0 0 0 0 0 0 0 0 0 0 0 0 0 0 0 0 0 0 0 0 0 0 0 0 0 0 0 0 0 0 0 0 0\n",
      " 0 0 0 0 0 0 0 0 0 0 0 0 0 0 0 0 0 0 0 0 0 0 0 0 0 0 1 3 3 3 1 3 1 3 4 1 3\n",
      " 4 3 4 3 4 4 3 1 3 1 0 4 4 4 3 0 3 3 3 3 1 0 1 3 4 3 3 3 3 3 1 3 4 3 4 3 4\n",
      " 4 1 4 0 3 4 3 1 3 3 3 3 4 3 1 3 3 3 4 4 4 3 4 3 3 0 4 1 0 3 4 4 3 3 4 1 1\n",
      " 4 4 4 4 0 3 1 3 4 4 3 3 0 3 4 3 4 0 4 4 4 3 3 3 3 1 3 4 3 2 1 3 4 0 3 0 1\n",
      " 4 2 3 3 3 3 1 3 1 3 3 4 3 2 1 4 4 4 3 4 1 4 4 0 3 1 3 0]\n",
      "[4 4 1 1 1 2 2 0 3 2 0 1 4 0 3 1 4 3 4 4 0 3 4 3 3 3 1 4 0 4 0 4 3 3 4 1 4\n",
      " 1 1 3 1 2 3 4 4 4 1 3 0 4 3 3 4 4 3 3 4 4 1 3 4 4 3 4 4 4 1 4 4 4 4 4 4 4\n",
      " 3 4 3 3 3 4 0 4 1 3 4 3 4 4 3 3 1 3 3 3 3 0 0 0 4 3 4 4 4 4 3 4 3 3 3 3 0\n",
      " 3 4 3 4 4 3 1 3 4 4 0 1 4 3 1 3 3 4 3 3 3 4 0 4 3 4 4 3 1 0 4 4 4 2 4 3 1\n",
      " 1 4 4 4 4 1 1 4 4 4 4 4 4 4 4 4 4 0 3 4 3 0 4 1 1 4 3 3 4 3 4 4 4 4 1 4 2\n",
      " 3 4 4 3 4 4 1 4 3 1 1 0 3 1 1 3 4 4 0 3 4 4 4 4 3 1 4 4 1 4 4 3 4 1 3 4 0\n",
      " 4 4 4 3 1 4 4 4 4 1 3 3 4 3 0 0 4 3 4 1 1 4 4 3 4 3 4 0]\n"
     ]
    }
   ],
   "source": [
    "tesModel = df.drop(['Label', 'Image'], axis=1)\n",
    "hasil = clf.predict(tesModel)\n",
    "# print(hasil)\n",
    "\n",
    "midIndex = int(len(hasil)/2)\n",
    "# print(hasil)\n",
    "\n",
    "print(hasil[:midIndex])\n",
    "print(hasil[midIndex:])"
   ]
  },
  {
   "cell_type": "code",
   "execution_count": 22,
   "metadata": {},
   "outputs": [
    {
     "ename": "ValueError",
     "evalue": "n_features must be equal to 2. Got 6 instead.",
     "output_type": "error",
     "traceback": [
      "\u001b[1;31m---------------------------------------------------------------------------\u001b[0m",
      "\u001b[1;31mValueError\u001b[0m                                Traceback (most recent call last)",
      "Cell \u001b[1;32mIn [22], line 31\u001b[0m\n\u001b[0;32m     28\u001b[0m X0, X1 \u001b[39m=\u001b[39m x_train[\u001b[39m'\u001b[39m\u001b[39mcontrast_0\u001b[39m\u001b[39m'\u001b[39m], x_train[\u001b[39m'\u001b[39m\u001b[39mdissimilarity_0\u001b[39m\u001b[39m'\u001b[39m]\n\u001b[0;32m     30\u001b[0m \u001b[39mfor\u001b[39;00m clf, title, ax \u001b[39min\u001b[39;00m \u001b[39mzip\u001b[39m(models, titles, sub\u001b[39m.\u001b[39mflatten()):\n\u001b[1;32m---> 31\u001b[0m     disp \u001b[39m=\u001b[39m DecisionBoundaryDisplay\u001b[39m.\u001b[39;49mfrom_estimator(\n\u001b[0;32m     32\u001b[0m         clf,\n\u001b[0;32m     33\u001b[0m         x_train,\n\u001b[0;32m     34\u001b[0m         response_method\u001b[39m=\u001b[39;49m\u001b[39m\"\u001b[39;49m\u001b[39mpredict\u001b[39;49m\u001b[39m\"\u001b[39;49m,\n\u001b[0;32m     35\u001b[0m         cmap\u001b[39m=\u001b[39;49mplt\u001b[39m.\u001b[39;49mcm\u001b[39m.\u001b[39;49mcoolwarm,\n\u001b[0;32m     36\u001b[0m         alpha\u001b[39m=\u001b[39;49m\u001b[39m0.8\u001b[39;49m,\n\u001b[0;32m     37\u001b[0m         ax\u001b[39m=\u001b[39;49max,\n\u001b[0;32m     38\u001b[0m         xlabel\u001b[39m=\u001b[39;49m\u001b[39m'\u001b[39;49m\u001b[39mtes\u001b[39;49m\u001b[39m'\u001b[39;49m,\n\u001b[0;32m     39\u001b[0m         ylabel\u001b[39m=\u001b[39;49m\u001b[39m'\u001b[39;49m\u001b[39mtes2\u001b[39;49m\u001b[39m'\u001b[39;49m,\n\u001b[0;32m     40\u001b[0m     )\n\u001b[0;32m     41\u001b[0m     ax\u001b[39m.\u001b[39mscatter(X0, X1, c\u001b[39m=\u001b[39my, cmap\u001b[39m=\u001b[39mplt\u001b[39m.\u001b[39mcm\u001b[39m.\u001b[39mcoolwarm, s\u001b[39m=\u001b[39m\u001b[39m20\u001b[39m, edgecolors\u001b[39m=\u001b[39m\u001b[39m\"\u001b[39m\u001b[39mk\u001b[39m\u001b[39m\"\u001b[39m)\n\u001b[0;32m     42\u001b[0m     ax\u001b[39m.\u001b[39mset_xticks(())\n",
      "File \u001b[1;32mc:\\Users\\Bangik\\AppData\\Local\\Programs\\Python\\Python310\\lib\\site-packages\\sklearn\\inspection\\_plot\\decision_boundary.py:325\u001b[0m, in \u001b[0;36mDecisionBoundaryDisplay.from_estimator\u001b[1;34m(cls, estimator, X, grid_resolution, eps, plot_method, response_method, xlabel, ylabel, ax, **kwargs)\u001b[0m\n\u001b[0;32m    323\u001b[0m num_features \u001b[39m=\u001b[39m _num_features(X)\n\u001b[0;32m    324\u001b[0m \u001b[39mif\u001b[39;00m num_features \u001b[39m!=\u001b[39m \u001b[39m2\u001b[39m:\n\u001b[1;32m--> 325\u001b[0m     \u001b[39mraise\u001b[39;00m \u001b[39mValueError\u001b[39;00m(\n\u001b[0;32m    326\u001b[0m         \u001b[39mf\u001b[39m\u001b[39m\"\u001b[39m\u001b[39mn_features must be equal to 2. Got \u001b[39m\u001b[39m{\u001b[39;00mnum_features\u001b[39m}\u001b[39;00m\u001b[39m instead.\u001b[39m\u001b[39m\"\u001b[39m\n\u001b[0;32m    327\u001b[0m     )\n\u001b[0;32m    329\u001b[0m x0, x1 \u001b[39m=\u001b[39m _safe_indexing(X, \u001b[39m0\u001b[39m, axis\u001b[39m=\u001b[39m\u001b[39m1\u001b[39m), _safe_indexing(X, \u001b[39m1\u001b[39m, axis\u001b[39m=\u001b[39m\u001b[39m1\u001b[39m)\n\u001b[0;32m    331\u001b[0m x0_min, x0_max \u001b[39m=\u001b[39m x0\u001b[39m.\u001b[39mmin() \u001b[39m-\u001b[39m eps, x0\u001b[39m.\u001b[39mmax() \u001b[39m+\u001b[39m eps\n",
      "\u001b[1;31mValueError\u001b[0m: n_features must be equal to 2. Got 6 instead."
     ]
    },
    {
     "data": {
      "image/png": "[encoded data removed]",
      "text/plain": [
       "<Figure size 640x480 with 4 Axes>"
      ]
     },
     "metadata": {},
     "output_type": "display_data"
    }
   ],
   "source": [
    "import matplotlib.pyplot as plt\n",
    "from sklearn import svm, datasets\n",
    "from sklearn.inspection import DecisionBoundaryDisplay\n",
    "\n",
    "# we create an instance of SVM and fit out data. We do not scale our\n",
    "# data since we want to plot the support vectors\n",
    "C = 1.0  # SVM regularization parameter\n",
    "models = (\n",
    "    svm.SVC(kernel=\"linear\", C=C),\n",
    "    svm.LinearSVC(C=C, max_iter=10000),\n",
    "    svm.SVC(kernel=\"rbf\", gamma=0.7, C=C),\n",
    "    svm.SVC(kernel=\"poly\", degree=3, gamma=\"auto\", C=C),\n",
    ")\n",
    "models = (clf.fit(x_train, y_train) for clf in models)\n",
    "\n",
    "# title for the plots\n",
    "titles = (\n",
    "    \"SVC with linear kernel\",\n",
    "    \"LinearSVC (linear kernel)\",\n",
    "    \"SVC with RBF kernel\",\n",
    "    \"SVC with polynomial (degree 3) kernel\",\n",
    ")\n",
    "\n",
    "# Set-up 2x2 grid for plotting.\n",
    "fig, sub = plt.subplots(2, 2)\n",
    "plt.subplots_adjust(wspace=0.4, hspace=0.4)\n",
    "\n",
    "X0, X1 = x_train['contrast_0'], x_train['dissimilarity_0']\n",
    "\n",
    "for clf, title, ax in zip(models, titles, sub.flatten()):\n",
    "    disp = DecisionBoundaryDisplay.from_estimator(\n",
    "        clf,\n",
    "        x_train,\n",
    "        response_method=\"predict\",\n",
    "        cmap=plt.cm.coolwarm,\n",
    "        alpha=0.8,\n",
    "        ax=ax,\n",
    "        xlabel='tes',\n",
    "        ylabel='tes2',\n",
    "    )\n",
    "    ax.scatter(X0, X1, c=y, cmap=plt.cm.coolwarm, s=20, edgecolors=\"k\")\n",
    "    ax.set_xticks(())\n",
    "    ax.set_yticks(())\n",
    "    ax.set_title(title)\n",
    "\n",
    "plt.show()"
   ]
  }
 ],
 "metadata": {
  "kernelspec": {
   "display_name": "venv",
   "language": "python",
   "name": "python3"
  },
  "language_info": {
   "codemirror_mode": {
    "name": "ipython",
    "version": 3
   },
   "file_extension": ".py",
   "mimetype": "text/x-python",
   "name": "python",
   "nbconvert_exporter": "python",
   "pygments_lexer": "ipython3",
   "version": "3.10.6"
  },
  "orig_nbformat": 4,
  "vscode": {
   "interpreter": {
    "hash": "6f1f894c20e42d4f48d954bb30891358c21b04bbfbc6e7587056cba9cdb7a689"
   }
  }
 },
 "nbformat": 4,
 "nbformat_minor": 2
}
