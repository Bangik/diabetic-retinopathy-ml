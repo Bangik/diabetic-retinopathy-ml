{
 "cells": [
  {
   "cell_type": "code",
   "execution_count": 1,
   "metadata": {},
   "outputs": [
    {
     "name": "stderr",
     "output_type": "stream",
     "text": [
      "WARNING:absl:`lr` is deprecated, please use `learning_rate` instead, or use the legacy optimizer, e.g.,tf.keras.optimizers.legacy.Adam.\n"
     ]
    }
   ],
   "source": [
    "import numpy as np\n",
    "from PIL import Image\n",
    "import math\n",
    "from tensorflow.keras.models import Sequential\n",
    "from tensorflow.keras import layers\n",
    "from tensorflow.keras.optimizers import Adam\n",
    "from tensorflow.keras.applications import DenseNet121\n",
    "\n",
    "densenet = DenseNet121(\n",
    "  weights='C:/Users/Bangik/Documents/Python/diabetic-retinopathy-ml/model/DenseNet-BC-121-32-no-top.h5',\n",
    "  include_top=False,\n",
    "  input_shape=(224,224,3)\n",
    ")\n",
    "\n",
    "def build_model():\n",
    "  model = Sequential()\n",
    "  model.add(densenet)\n",
    "  model.add(layers.GlobalAveragePooling2D())\n",
    "  model.add(layers.Dropout(0.5))\n",
    "  model.add(layers.Dense(5, activation='sigmoid'))\n",
    "  \n",
    "  model.compile(\n",
    "      loss='binary_crossentropy',\n",
    "      optimizer=Adam(lr=0.00005),\n",
    "      metrics=['accuracy']\n",
    "  )\n",
    "  \n",
    "  return model\n",
    "\n",
    "model = build_model()\n",
    "model.load_weights('C:/Users/Bangik/Documents/Python/diabetic-retinopathy-ml/model/model.h5')\n",
    "\n",
    "def get_pad_width(im, new_shape, is_rgb=True):\n",
    "  pad_diff = new_shape - im.shape[0], new_shape - im.shape[1]\n",
    "  t, b = math.floor(pad_diff[0]/2), math.ceil(pad_diff[0]/2)\n",
    "  l, r = math.floor(pad_diff[1]/2), math.ceil(pad_diff[1]/2)\n",
    "  if is_rgb:\n",
    "      pad_width = ((t,b), (l,r), (0, 0))\n",
    "  else:\n",
    "      pad_width = ((t,b), (l,r))\n",
    "  return pad_width\n",
    "\n",
    "def preprocess_image(image_path, desired_size=224):\n",
    "  im = Image.open(f'{image_path}')\n",
    "  im = im.resize((desired_size, )*2, resample=Image.LANCZOS)\n",
    "  \n",
    "  return im"
   ]
  },
  {
   "cell_type": "code",
   "execution_count": 6,
   "metadata": {},
   "outputs": [],
   "source": [
    "def prediction(image_path):\n",
    "  tes_image = np.empty((1, 224, 224, 3), dtype=np.uint8)\n",
    "  tes_image[0, :, :, :] = preprocess_image(image_path)\n",
    "  predicted = model.predict(tes_image) > 0.5\n",
    "  predicted = predicted.astype(int).sum(axis=1) - 1\n",
    "  return predicted"
   ]
  },
  {
   "cell_type": "code",
   "execution_count": 9,
   "metadata": {},
   "outputs": [
    {
     "name": "stderr",
     "output_type": "stream",
     "text": [
      "C:\\Users\\Bangik\\AppData\\Local\\Temp\\ipykernel_10988\\1883825919.py:45: DeprecationWarning: LANCZOS is deprecated and will be removed in Pillow 10 (2023-07-01). Use Resampling.LANCZOS instead.\n",
      "  im = im.resize((desired_size, )*2, resample=Image.LANCZOS)\n"
     ]
    },
    {
     "name": "stdout",
     "output_type": "stream",
     "text": [
      "1/1 [==============================] - 0s 239ms/step\n",
      "[1]\n"
     ]
    }
   ],
   "source": [
    "tes = prediction('E:/Pawang Code/Diabetic Retinopathy/dataset_filter/1/03e25101e8e8.png')\n",
    "print(tes)"
   ]
  }
 ],
 "metadata": {
  "kernelspec": {
   "display_name": "venv",
   "language": "python",
   "name": "python3"
  },
  "language_info": {
   "codemirror_mode": {
    "name": "ipython",
    "version": 3
   },
   "file_extension": ".py",
   "mimetype": "text/x-python",
   "name": "python",
   "nbconvert_exporter": "python",
   "pygments_lexer": "ipython3",
   "version": "3.10.6"
  },
  "orig_nbformat": 4,
  "vscode": {
   "interpreter": {
    "hash": "6f1f894c20e42d4f48d954bb30891358c21b04bbfbc6e7587056cba9cdb7a689"
   }
  }
 },
 "nbformat": 4,
 "nbformat_minor": 2
}
