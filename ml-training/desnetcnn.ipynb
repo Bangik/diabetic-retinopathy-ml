{
 "cells": [
  {
   "cell_type": "code",
   "execution_count": 1,
   "metadata": {},
   "outputs": [],
   "source": [
    "import json\n",
    "import math\n",
    "import os\n",
    "\n",
    "import cv2\n",
    "from PIL import Image\n",
    "import numpy as np\n",
    "from keras import layers\n",
    "from keras.applications import DenseNet121\n",
    "from keras.callbacks import Callback, ModelCheckpoint\n",
    "from keras.preprocessing.image import ImageDataGenerator\n",
    "from keras.models import Sequential\n",
    "from keras.optimizers import Adam\n",
    "import matplotlib.pyplot as plt\n",
    "import pandas as pd\n",
    "from sklearn.model_selection import train_test_split\n",
    "from sklearn.metrics import cohen_kappa_score, accuracy_score\n",
    "import scipy\n",
    "import tensorflow as tf\n",
    "from tqdm import tqdm"
   ]
  },
  {
   "cell_type": "code",
   "execution_count": 2,
   "metadata": {},
   "outputs": [],
   "source": [
    "def crop_image_from_gray(img,tol=7):\n",
    "  if img.ndim ==2:\n",
    "    mask = img>tol\n",
    "    return img[np.ix_(mask.any(1),mask.any(0))]\n",
    "  elif img.ndim==3:\n",
    "    gray_img = cv2.cvtColor(img, cv2.COLOR_BGR2GRAY)\n",
    "    mask = gray_img>tol        \n",
    "    check_shape = img[:,:,0][np.ix_(mask.any(1),mask.any(0))].shape[0]\n",
    "    if (check_shape == 0):\n",
    "      return img\n",
    "    else:\n",
    "      img1=img[:,:,0][np.ix_(mask.any(1),mask.any(0))]\n",
    "      img2=img[:,:,1][np.ix_(mask.any(1),mask.any(0))]\n",
    "      img3=img[:,:,2][np.ix_(mask.any(1),mask.any(0))]\n",
    "      img = np.stack([img1,img2,img3],axis=-1)\n",
    "      return img\n",
    "\n",
    "def circle_crop_v2(img):\n",
    "  img = crop_image_from_gray(img)\n",
    "\n",
    "  height, width, depth = img.shape\n",
    "  largest_side = np.max((height, width))\n",
    "  img = cv2.resize(img, (largest_side, largest_side))\n",
    "\n",
    "  height, width, depth = img.shape\n",
    "\n",
    "  x = int(width / 2)\n",
    "  y = int(height / 2)\n",
    "  r = np.amin((x, y))\n",
    "\n",
    "  circle_img = np.zeros((height, width), np.uint8)\n",
    "  cv2.circle(circle_img, (x, y), int(r), 1, thickness=-1)\n",
    "  img = cv2.bitwise_and(img, img, mask=circle_img)\n",
    "  img = crop_image_from_gray(img)\n",
    "\n",
    "  return img\n",
    "\n",
    "def preprocess_image(image_path, desired_size=224):\n",
    "  img = cv2.imread(image_path)\n",
    "  circle_crop = circle_crop_v2(img)\n",
    "  bgr2rgb = cv2.cvtColor(circle_crop, cv2.COLOR_BGR2RGB)\n",
    "  img_pil = Image.fromarray(bgr2rgb)\n",
    "  im = img_pil.resize((desired_size, )*2, resample=Image.LANCZOS)\n",
    "  return im"
   ]
  },
  {
   "cell_type": "code",
   "execution_count": null,
   "metadata": {},
   "outputs": [],
   "source": [
    "train_df = pd.read_csv('E:/Pawang Code/Diabetic Retinopathy/train.csv')\n",
    "N = train_df.shape[0]\n",
    "x_train = np.empty((N, 224, 224, 3), dtype=np.uint8)\n",
    "\n",
    "for i, image_id in enumerate(tqdm(train_df['id_code'])):\n",
    "    x_train[i, :, :, :] = preprocess_image('E:/Pawang Code/Diabetic Retinopathy/train_images/{}.png'.format(image_id))"
   ]
  },
  {
   "cell_type": "code",
   "execution_count": 1,
   "metadata": {},
   "outputs": [
    {
     "name": "stderr",
     "output_type": "stream",
     "text": [
      "WARNING:absl:`lr` is deprecated, please use `learning_rate` instead, or use the legacy optimizer, e.g.,tf.keras.optimizers.legacy.Adam.\n"
     ]
    }
   ],
   "source": [
    "import numpy as np\n",
    "from PIL import Image\n",
    "import math\n",
    "from tensorflow.keras.models import Sequential\n",
    "from tensorflow.keras import layers\n",
    "from tensorflow.keras.optimizers import Adam\n",
    "from tensorflow.keras.applications import DenseNet121\n",
    "\n",
    "densenet = DenseNet121(\n",
    "  weights='C:/Users/Bangik/Documents/Python/diabetic-retinopathy-ml/model/DenseNet-BC-121-32-no-top.h5',\n",
    "  include_top=False,\n",
    "  input_shape=(224,224,3)\n",
    ")\n",
    "\n",
    "def build_model():\n",
    "  model = Sequential()\n",
    "  model.add(densenet)\n",
    "  model.add(layers.GlobalAveragePooling2D())\n",
    "  model.add(layers.Dropout(0.5))\n",
    "  model.add(layers.Dense(5, activation='sigmoid'))\n",
    "  \n",
    "  model.compile(\n",
    "      loss='binary_crossentropy',\n",
    "      optimizer=Adam(lr=0.00005),\n",
    "      metrics=['accuracy']\n",
    "  )\n",
    "  \n",
    "  return model\n",
    "\n",
    "model = build_model()\n",
    "model.load_weights('C:/Users/Bangik/Documents/Python/diabetic-retinopathy-ml/model/model.h5')\n",
    "\n",
    "def get_pad_width(im, new_shape, is_rgb=True):\n",
    "  pad_diff = new_shape - im.shape[0], new_shape - im.shape[1]\n",
    "  t, b = math.floor(pad_diff[0]/2), math.ceil(pad_diff[0]/2)\n",
    "  l, r = math.floor(pad_diff[1]/2), math.ceil(pad_diff[1]/2)\n",
    "  if is_rgb:\n",
    "      pad_width = ((t,b), (l,r), (0, 0))\n",
    "  else:\n",
    "      pad_width = ((t,b), (l,r))\n",
    "  return pad_width\n",
    "\n",
    "def preprocess_image(image_path, desired_size=224):\n",
    "  im = Image.open(f'{image_path}')\n",
    "  im = im.resize((desired_size, )*2, resample=Image.LANCZOS)\n",
    "  \n",
    "  return im"
   ]
  },
  {
   "cell_type": "code",
   "execution_count": 6,
   "metadata": {},
   "outputs": [],
   "source": [
    "def prediction(image_path):\n",
    "  tes_image = np.empty((1, 224, 224, 3), dtype=np.uint8)\n",
    "  tes_image[0, :, :, :] = preprocess_image(image_path)\n",
    "  predicted = model.predict(tes_image) > 0.5\n",
    "  predicted = predicted.astype(int).sum(axis=1) - 1\n",
    "  return predicted"
   ]
  },
  {
   "cell_type": "code",
   "execution_count": 9,
   "metadata": {},
   "outputs": [
    {
     "name": "stderr",
     "output_type": "stream",
     "text": [
      "C:\\Users\\Bangik\\AppData\\Local\\Temp\\ipykernel_10988\\1883825919.py:45: DeprecationWarning: LANCZOS is deprecated and will be removed in Pillow 10 (2023-07-01). Use Resampling.LANCZOS instead.\n",
      "  im = im.resize((desired_size, )*2, resample=Image.LANCZOS)\n"
     ]
    },
    {
     "name": "stdout",
     "output_type": "stream",
     "text": [
      "1/1 [==============================] - 0s 239ms/step\n",
      "[1]\n"
     ]
    }
   ],
   "source": [
    "tes = prediction('E:/Pawang Code/Diabetic Retinopathy/dataset_filter/1/03e25101e8e8.png')\n",
    "print(tes)"
   ]
  }
 ],
 "metadata": {
  "kernelspec": {
   "display_name": "venv",
   "language": "python",
   "name": "python3"
  },
  "language_info": {
   "codemirror_mode": {
    "name": "ipython",
    "version": 3
   },
   "file_extension": ".py",
   "mimetype": "text/x-python",
   "name": "python",
   "nbconvert_exporter": "python",
   "pygments_lexer": "ipython3",
   "version": "3.10.6"
  },
  "orig_nbformat": 4,
  "vscode": {
   "interpreter": {
    "hash": "6f1f894c20e42d4f48d954bb30891358c21b04bbfbc6e7587056cba9cdb7a689"
   }
  }
 },
 "nbformat": 4,
 "nbformat_minor": 2
}
