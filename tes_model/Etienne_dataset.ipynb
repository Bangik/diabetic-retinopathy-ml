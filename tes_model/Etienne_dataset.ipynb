{
 "cells": [
  {
   "cell_type": "code",
   "execution_count": 1,
   "metadata": {},
   "outputs": [],
   "source": [
    "import numpy as np\n",
    "from PIL import Image\n",
    "import cv2\n",
    "from tqdm import tqdm\n",
    "import pandas as pd\n",
    "from keras.models import Sequential\n",
    "from keras import layers\n",
    "from keras.optimizers import Adam\n",
    "from keras.applications import DenseNet121"
   ]
  },
  {
   "cell_type": "code",
   "execution_count": 2,
   "metadata": {},
   "outputs": [],
   "source": [
    "densenet = DenseNet121(\n",
    "  weights='C:/Users/Bangik/Documents/python/diabetic-retinopathy-ml/model/DenseNet-BC-121-32-no-top.h5',\n",
    "  include_top=False,\n",
    "  input_shape=(224,224,3)\n",
    ")\n",
    "\n",
    "def build_model():\n",
    "  model = Sequential()\n",
    "  model.add(densenet)\n",
    "  model.add(layers.GlobalAveragePooling2D())\n",
    "  model.add(layers.Dropout(0.5))\n",
    "  model.add(layers.Dense(5, activation='sigmoid'))\n",
    "  \n",
    "  model.compile(\n",
    "      loss='binary_crossentropy',\n",
    "      optimizer=Adam(learning_rate=0.00005),\n",
    "      metrics=['accuracy']\n",
    "  )\n",
    "  \n",
    "  return model\n",
    "\n",
    "model = build_model()\n",
    "model.load_weights('C:/Users/Bangik/Documents/python/diabetic-retinopathy-ml/model/model-cnn-17-5-23.h5')"
   ]
  },
  {
   "cell_type": "code",
   "execution_count": 3,
   "metadata": {},
   "outputs": [],
   "source": [
    "def crop_image_from_gray(img,tol=7):\n",
    "  if img.ndim ==2:\n",
    "    mask = img>tol\n",
    "    return img[np.ix_(mask.any(1),mask.any(0))]\n",
    "  elif img.ndim==3:\n",
    "    gray_img = cv2.cvtColor(img, cv2.COLOR_BGR2GRAY)\n",
    "    mask = gray_img>tol        \n",
    "    check_shape = img[:,:,0][np.ix_(mask.any(1),mask.any(0))].shape[0]\n",
    "    if (check_shape == 0):\n",
    "      return img\n",
    "    else:\n",
    "      img1=img[:,:,0][np.ix_(mask.any(1),mask.any(0))]\n",
    "      img2=img[:,:,1][np.ix_(mask.any(1),mask.any(0))]\n",
    "      img3=img[:,:,2][np.ix_(mask.any(1),mask.any(0))]\n",
    "      img = np.stack([img1,img2,img3],axis=-1)\n",
    "      return img\n",
    "\n",
    "def circle_crop_v2(img):\n",
    "  img = crop_image_from_gray(img)\n",
    "\n",
    "  height, width, depth = img.shape\n",
    "  largest_side = np.max((height, width))\n",
    "  img = cv2.resize(img, (largest_side, largest_side))\n",
    "\n",
    "  height, width, depth = img.shape\n",
    "\n",
    "  x = int(width / 2)\n",
    "  y = int(height / 2)\n",
    "  r = np.amin((x, y))\n",
    "\n",
    "  circle_img = np.zeros((height, width), np.uint8)\n",
    "  cv2.circle(circle_img, (x, y), int(r), 1, thickness=-1)\n",
    "  img = cv2.bitwise_and(img, img, mask=circle_img)\n",
    "  img = crop_image_from_gray(img)\n",
    "\n",
    "  return img\n",
    "\n",
    "def preprocess_image(image_path, desired_size=224):\n",
    "  # img = cv2.imread(image_path)\n",
    "  circle_crop = circle_crop_v2(image_path)\n",
    "  bgr2rgb = cv2.cvtColor(circle_crop, cv2.COLOR_BGR2RGB)\n",
    "  img_pil = Image.fromarray(bgr2rgb)\n",
    "  im = img_pil.resize((desired_size, )*2, resample=Image.LANCZOS)\n",
    "  return im\n",
    "\n",
    "def prediction(image_path):\n",
    "  tes_image = np.empty((1, 224, 224, 3), dtype=np.uint8)\n",
    "  tes_image[0, :, :, :] = preprocess_image(image_path)\n",
    "  predicted = model.predict(tes_image, verbose=None)\n",
    "  probability = predicted.max()\n",
    "  predicted = predicted > 0.5\n",
    "  predicted = predicted.astype(int).sum(axis=1) - 1\n",
    "  return predicted[0], probability"
   ]
  },
  {
   "cell_type": "code",
   "execution_count": 4,
   "metadata": {},
   "outputs": [
    {
     "name": "stderr",
     "output_type": "stream",
     "text": [
      "100%|██████████| 400/400 [08:05<00:00,  1.21s/it]\n"
     ]
    }
   ],
   "source": [
    "train_df = pd.read_excel('E:/Pawang Code/Diabetic Retinopathy/Databases CHU de St Etienne Messidor/Annotation merge.xlsx')\n",
    "filename = []\n",
    "y_true = []\n",
    "y_pred = []\n",
    "\n",
    "for i, image_id in enumerate(tqdm(train_df.values)):\n",
    "  path_image = \"E:/Pawang Code/Diabetic Retinopathy/Databases CHU de St Etienne Messidor/merge/{}\".format(image_id[0])\n",
    "  try:\n",
    "    pil = Image.open(path_image).convert('RGB')\n",
    "    cv2image = np.array(pil)\n",
    "    tes = prediction(cv2image)\n",
    "    filename.append(image_id[0])\n",
    "    y_pred.append(tes[0])\n",
    "    y_true.append(image_id[2])\n",
    "  except:\n",
    "    continue\n"
   ]
  },
  {
   "cell_type": "code",
   "execution_count": 5,
   "metadata": {},
   "outputs": [
    {
     "name": "stdout",
     "output_type": "stream",
     "text": [
      "              precision    recall  f1-score   support\n",
      "\n",
      "           0       0.50      0.99      0.66       186\n",
      "           1       0.00      0.00      0.00        71\n",
      "           2       0.16      0.03      0.05        91\n",
      "           3       0.50      0.02      0.04        52\n",
      "\n",
      "    accuracy                           0.47       400\n",
      "   macro avg       0.29      0.26      0.19       400\n",
      "weighted avg       0.33      0.47      0.33       400\n",
      "\n",
      "[[185   0   0   1]\n",
      " [ 71   0   0   0]\n",
      " [ 87   1   3   0]\n",
      " [ 30   5  16   1]]\n"
     ]
    }
   ],
   "source": [
    "from sklearn.metrics import classification_report\n",
    "from sklearn.metrics import confusion_matrix\n",
    "print(classification_report(y_true, y_pred))\n",
    "print(confusion_matrix(y_true, y_pred))"
   ]
  },
  {
   "cell_type": "code",
   "execution_count": 6,
   "metadata": {},
   "outputs": [],
   "source": [
    "df = pd.DataFrame({'filename': filename, 'y_true': y_true, 'y_pred': y_pred})\n",
    "df.to_excel('E:/Pawang Code/Diabetic Retinopathy/Databases CHU de St Etienne Messidor/hasil.xlsx', index=False)"
   ]
  }
 ],
 "metadata": {
  "kernelspec": {
   "display_name": "venv",
   "language": "python",
   "name": "python3"
  },
  "language_info": {
   "codemirror_mode": {
    "name": "ipython",
    "version": 3
   },
   "file_extension": ".py",
   "mimetype": "text/x-python",
   "name": "python",
   "nbconvert_exporter": "python",
   "pygments_lexer": "ipython3",
   "version": "3.10.6"
  },
  "orig_nbformat": 4
 },
 "nbformat": 4,
 "nbformat_minor": 2
}
