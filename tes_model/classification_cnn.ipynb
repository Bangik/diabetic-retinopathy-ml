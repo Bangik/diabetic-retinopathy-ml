{
 "cells": [
  {
   "cell_type": "code",
   "execution_count": 2,
   "metadata": {},
   "outputs": [],
   "source": [
    "import numpy as np\n",
    "from PIL import Image\n",
    "import cv2\n",
    "from tqdm import tqdm\n",
    "import pandas as pd\n",
    "from keras.models import Sequential\n",
    "from keras import layers\n",
    "from keras.optimizers import Adam\n",
    "from keras.applications import DenseNet121"
   ]
  },
  {
   "cell_type": "code",
   "execution_count": 1,
   "metadata": {},
   "outputs": [
    {
     "name": "stdout",
     "output_type": "stream",
     "text": [
      "tes\n"
     ]
    }
   ],
   "source": [
    "print('tes')"
   ]
  },
  {
   "cell_type": "code",
   "execution_count": 4,
   "metadata": {},
   "outputs": [
    {
     "name": "stderr",
     "output_type": "stream",
     "text": [
      "c:\\Users\\Bangik\\Documents\\python\\diabetic-retinopathy-ml\\venv\\lib\\site-packages\\keras\\optimizers\\optimizer_v2\\adam.py:117: UserWarning: The `lr` argument is deprecated, use `learning_rate` instead.\n",
      "  super().__init__(name, **kwargs)\n"
     ]
    }
   ],
   "source": [
    "densenet = DenseNet121(\n",
    "  weights='C:/Users/Bangik/Documents/python/diabetic-retinopathy-ml/model/DenseNet-BC-121-32-no-top.h5',\n",
    "  include_top=False,\n",
    "  input_shape=(224,224,3)\n",
    ")\n",
    "\n",
    "def build_model():\n",
    "  model = Sequential()\n",
    "  model.add(densenet)\n",
    "  model.add(layers.GlobalAveragePooling2D())\n",
    "  model.add(layers.Dropout(0.5))\n",
    "  model.add(layers.Dense(5, activation='sigmoid'))\n",
    "  \n",
    "  model.compile(\n",
    "      loss='binary_crossentropy',\n",
    "      optimizer=Adam(lr=0.00005),\n",
    "      metrics=['accuracy']\n",
    "  )\n",
    "  \n",
    "  return model\n",
    "\n",
    "model = build_model()\n",
    "model.load_weights('C:/Users/Bangik/Documents/python/diabetic-retinopathy-ml/model/model-cnn-idrid-22-5-23.h5')"
   ]
  },
  {
   "cell_type": "code",
   "execution_count": 5,
   "metadata": {},
   "outputs": [],
   "source": [
    "def crop_image_from_gray(img,tol=7):\n",
    "  if img.ndim ==2:\n",
    "    mask = img>tol\n",
    "    return img[np.ix_(mask.any(1),mask.any(0))]\n",
    "  elif img.ndim==3:\n",
    "    gray_img = cv2.cvtColor(img, cv2.COLOR_BGR2GRAY)\n",
    "    mask = gray_img>tol        \n",
    "    check_shape = img[:,:,0][np.ix_(mask.any(1),mask.any(0))].shape[0]\n",
    "    if (check_shape == 0):\n",
    "      return img\n",
    "    else:\n",
    "      img1=img[:,:,0][np.ix_(mask.any(1),mask.any(0))]\n",
    "      img2=img[:,:,1][np.ix_(mask.any(1),mask.any(0))]\n",
    "      img3=img[:,:,2][np.ix_(mask.any(1),mask.any(0))]\n",
    "      img = np.stack([img1,img2,img3],axis=-1)\n",
    "      return img\n",
    "\n",
    "def circle_crop_v2(img):\n",
    "  img = crop_image_from_gray(img)\n",
    "\n",
    "  height, width, depth = img.shape\n",
    "  largest_side = np.max((height, width))\n",
    "  img = cv2.resize(img, (largest_side, largest_side))\n",
    "\n",
    "  height, width, depth = img.shape\n",
    "\n",
    "  x = int(width / 2)\n",
    "  y = int(height / 2)\n",
    "  r = np.amin((x, y))\n",
    "\n",
    "  circle_img = np.zeros((height, width), np.uint8)\n",
    "  cv2.circle(circle_img, (x, y), int(r), 1, thickness=-1)\n",
    "  img = cv2.bitwise_and(img, img, mask=circle_img)\n",
    "  img = crop_image_from_gray(img)\n",
    "\n",
    "  return img\n",
    "\n",
    "def preprocess_image(image_path, desired_size=224):\n",
    "  img = cv2.imread(image_path)\n",
    "  circle_crop = circle_crop_v2(img)\n",
    "  bgr2rgb = cv2.cvtColor(circle_crop, cv2.COLOR_BGR2RGB)\n",
    "  img_pil = Image.fromarray(bgr2rgb)\n",
    "  im = img_pil.resize((desired_size, )*2, resample=Image.LANCZOS)\n",
    "  return im\n",
    "\n",
    "def prediction(image_path):\n",
    "  tes_image = np.empty((1, 224, 224, 3), dtype=np.uint8)\n",
    "  tes_image[0, :, :, :] = preprocess_image(image_path)\n",
    "  predicted = model.predict(tes_image, verbose=None)\n",
    "  probability = predicted.max()\n",
    "  predicted = predicted > 0.5\n",
    "  predicted = predicted.astype(int).sum(axis=1) - 1\n",
    "  return predicted[0], probability"
   ]
  },
  {
   "cell_type": "code",
   "execution_count": 33,
   "metadata": {},
   "outputs": [
    {
     "name": "stdout",
     "output_type": "stream",
     "text": [
      "1/1 [==============================] - 6s 6s/step\n",
      "0\n"
     ]
    }
   ],
   "source": [
    "path_image = \"E:/Pawang Code/Diabetic Retinopathy/Databases acquired by Service dOphtalmologie Hôpital Lariboisière Paris Messidor/Base11/20051020_43808_0100_PP.tif\"\n",
    "pil = Image.open(path_image).convert('RGB')\n",
    "cv2image = np.array(pil)\n",
    "tes = prediction(cv2image)\n",
    "print(tes[0])"
   ]
  },
  {
   "cell_type": "code",
   "execution_count": null,
   "metadata": {},
   "outputs": [],
   "source": [
    "train_df = pd.read_csv('E:/Pawang Code/Diabetic Retinopathy/Diabetic Retinopathy Detection competition kaggle/trainLabels.csv')\n",
    "filename = []\n",
    "y_true = []\n",
    "y_pred = []\n",
    "\n",
    "for i, image_id in enumerate(train_df.values):\n",
    "  path_image = \"E:/Pawang Code/Diabetic Retinopathy/Diabetic Retinopathy Detection competition kaggle/train/{}.jpeg\".format(image_id[0])\n",
    "  try:\n",
    "    pil = Image.open(path_image).convert('RGB')\n",
    "    cv2image = np.array(pil)\n",
    "    tes = prediction(cv2image)\n",
    "    filename.append(image_id[0])\n",
    "    y_pred.append(tes[0])\n",
    "    y_true.append(image_id[1])\n",
    "  except:\n",
    "    continue\n"
   ]
  },
  {
   "cell_type": "code",
   "execution_count": 7,
   "metadata": {},
   "outputs": [],
   "source": [
    "# list to csv\n",
    "df = pd.DataFrame({'y_pred': y_pred})\n",
    "df.to_csv('E:/Pawang Code/Diabetic Retinopathy/Diabetic Retinopathy Detection competition kaggle/result.csv', index=False)"
   ]
  },
  {
   "cell_type": "code",
   "execution_count": 9,
   "metadata": {},
   "outputs": [
    {
     "name": "stdout",
     "output_type": "stream",
     "text": [
      "              precision    recall  f1-score   support\n",
      "\n",
      "           0       0.78      0.95      0.86       567\n",
      "           1       0.04      0.02      0.02        56\n",
      "           2       0.31      0.10      0.15       110\n",
      "           3       0.38      0.14      0.21        21\n",
      "           4       0.40      0.14      0.21        14\n",
      "\n",
      "    accuracy                           0.73       768\n",
      "   macro avg       0.38      0.27      0.29       768\n",
      "weighted avg       0.64      0.73      0.66       768\n",
      "\n",
      "[[540  15  10   1   1]\n",
      " [ 54   1   1   0   0]\n",
      " [ 90   6  11   2   1]\n",
      " [  8   2   7   3   1]\n",
      " [  3   1   6   2   2]]\n"
     ]
    }
   ],
   "source": [
    "from sklearn.metrics import classification_report\n",
    "from sklearn.metrics import confusion_matrix\n",
    "print(classification_report(y_true, y_pred))\n",
    "print(confusion_matrix(y_true, y_pred))"
   ]
  },
  {
   "cell_type": "code",
   "execution_count": 9,
   "metadata": {},
   "outputs": [
    {
     "name": "stdout",
     "output_type": "stream",
     "text": [
      "2\n"
     ]
    }
   ],
   "source": [
    "tes = prediction('E:/Pawang Code/Diabetic Retinopathy/INDIAN DIABETIC RETINOPATHY IMAGE DATASET/B. Disease Grading/1. Original Images/a. Training Set/IDRiD_001.jpg')\n",
    "print(tes[0])"
   ]
  },
  {
   "cell_type": "code",
   "execution_count": 9,
   "metadata": {},
   "outputs": [
    {
     "name": "stderr",
     "output_type": "stream",
     "text": [
      "100%|██████████| 413/413 [12:09<00:00,  1.77s/it]\n"
     ]
    }
   ],
   "source": [
    "train_df = pd.read_csv('E:/Pawang Code/Diabetic Retinopathy/INDIAN DIABETIC RETINOPATHY IMAGE DATASET/B. Disease Grading/2. Groundtruths/a. IDRiD_Disease Grading_Training Labels.csv')\n",
    "dictDataframe = {'id_code': [], 'diagnosis': [], 'predicted': []}\n",
    "\n",
    "for i, image_id in enumerate(tqdm(train_df.values)):\n",
    "    image_path = 'E:/Pawang Code/Diabetic Retinopathy/INDIAN DIABETIC RETINOPATHY IMAGE DATASET/B. Disease Grading/1. Original Images/a. Training Set/{}.jpg'.format(image_id[0])\n",
    "    tes = prediction(image_path)\n",
    "    dictDataframe['id_code'].append(image_id[0])\n",
    "    dictDataframe['diagnosis'].append(image_id[1])\n",
    "    dictDataframe['predicted'].append(tes[0])\n",
    "    # print(i, image_id[0], tes[0], tes[1])\n",
    "\n",
    "# df = pd.DataFrame(dictDataframe)\n",
    "# df.to_csv('E:/Pawang Code/Diabetic Retinopathy/INDIAN DIABETIC RETINOPATHY IMAGE DATASET/B. Disease Grading/tes_prediction.csv', index=False)"
   ]
  },
  {
   "cell_type": "code",
   "execution_count": 10,
   "metadata": {},
   "outputs": [
    {
     "name": "stdout",
     "output_type": "stream",
     "text": [
      "              precision    recall  f1-score   support\n",
      "\n",
      "           0       0.83      0.81      0.82       134\n",
      "           1       0.26      0.30      0.28        20\n",
      "           2       0.76      0.76      0.76       136\n",
      "           3       0.64      0.66      0.65        74\n",
      "           4       0.74      0.71      0.73        49\n",
      "\n",
      "    accuracy                           0.73       413\n",
      "   macro avg       0.65      0.65      0.65       413\n",
      "weighted avg       0.73      0.73      0.73       413\n",
      "\n",
      "[[108  12  13   1   0]\n",
      " [ 12   6   2   0   0]\n",
      " [ 10   5 103  17   1]\n",
      " [  0   0  14  49  11]\n",
      " [  0   0   4  10  35]]\n"
     ]
    }
   ],
   "source": [
    "from sklearn.metrics import classification_report\n",
    "from sklearn.metrics import confusion_matrix\n",
    "df = pd.DataFrame(dictDataframe)\n",
    "print(classification_report(df['diagnosis'], df['predicted']))\n",
    "print(confusion_matrix(df['diagnosis'], df['predicted']))"
   ]
  }
 ],
 "metadata": {
  "kernelspec": {
   "display_name": "venv",
   "language": "python",
   "name": "python3"
  },
  "language_info": {
   "codemirror_mode": {
    "name": "ipython",
    "version": 3
   },
   "file_extension": ".py",
   "mimetype": "text/x-python",
   "name": "python",
   "nbconvert_exporter": "python",
   "pygments_lexer": "ipython3",
   "version": "3.10.6"
  },
  "orig_nbformat": 4
 },
 "nbformat": 4,
 "nbformat_minor": 2
}
